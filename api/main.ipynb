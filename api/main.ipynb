{
 "cells": [
  {
   "cell_type": "code",
   "execution_count": null,
   "metadata": {},
   "outputs": [],
   "source": [
    "import numpy as np\n",
    "from fastapi import FastAPI, File, UploadFile\n",
    "import uvicorn\n",
    "from io import BytesIO\n",
    "from PIL import Image\n",
    "import tensorflow as tf\n",
    "\n",
    "# create object\n",
    "app = FastAPI()\n",
    "\n",
    "MODEL = tf.keras.models.load_model(\"../saved_models/cataract_model\")\n",
    "CLASS_NAMES = [\"Cataract\", \"Normal\"]\n",
    "\n",
    "@app.get(\"/ping\")\n",
    "async def ping():\n",
    "    return \"Hello I am Nuri\"\n",
    "\n",
    "def read_file_as_image(data) -> np.ndarray:\n",
    "    image = np.array(Image.open(BytesIO(data)))\n",
    "    return image\n",
    "\n",
    "@app.post(\"/prediksi\")\n",
    "async def predict(\n",
    "        upload: UploadFile = File(...)\n",
    "):\n",
    "    image = read_file_as_image(await upload.read())\n",
    "    img_batch = np.expand_dims(image, 0)\n",
    "\n",
    "    predictions = MODEL.predict(img_batch)\n",
    "\n",
    "    predicted_class = CLASS_NAMES[np.argmax(predictions[0])]\n",
    "    np.max(predictions[0])\n",
    "    confidence = np.max(predictions[0])\n",
    "    return {\n",
    "        'class' : predicted_class,\n",
    "        'confidence' : float(confidence)\n",
    "    }\n",
    "\n",
    "if __name__ == \"__main__\":\n",
    "    uvicorn.run(app, host='localhost', port=8000)"
   ]
  }
 ],
 "metadata": {
  "kernelspec": {
   "display_name": "cataract_env",
   "language": "python",
   "name": "python3"
  },
  "language_info": {
   "name": "python",
   "version": "3.8.5"
  },
  "orig_nbformat": 4
 },
 "nbformat": 4,
 "nbformat_minor": 2
}
